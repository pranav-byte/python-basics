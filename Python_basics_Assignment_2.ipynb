{
  "nbformat": 4,
  "nbformat_minor": 0,
  "metadata": {
    "colab": {
      "provenance": []
    },
    "kernelspec": {
      "name": "python3",
      "display_name": "Python 3"
    },
    "language_info": {
      "name": "python"
    }
  },
  "cells": [
    {
      "cell_type": "markdown",
      "source": [
        "1.What are the two values of the Boolean data type? How do you write them?"
      ],
      "metadata": {
        "id": "eh7EW7Xdp7B-"
      }
    },
    {
      "cell_type": "code",
      "source": [
        "#The 2 values of boolean data types are \n",
        "#1.True\n",
        "#2.False\n",
        "\n",
        "print(bool(2==2))\n",
        "print(bool(2==1))"
      ],
      "metadata": {
        "colab": {
          "base_uri": "https://localhost:8080/"
        },
        "id": "pQv6uJlFp_zF",
        "outputId": "cc1dab1c-03ec-4e6f-d810-aed3ebc42028"
      },
      "execution_count": 4,
      "outputs": [
        {
          "output_type": "stream",
          "name": "stdout",
          "text": [
            "True\n",
            "False\n"
          ]
        }
      ]
    },
    {
      "cell_type": "markdown",
      "source": [
        "2. What are the three different types of Boolean operators?"
      ],
      "metadata": {
        "id": "q_-CQrQXq0Zu"
      }
    },
    {
      "cell_type": "code",
      "source": [
        "1. AND\n",
        "2. OR\n",
        "3. NOT"
      ],
      "metadata": {
        "id": "qTc2qZEOqtUd"
      },
      "execution_count": null,
      "outputs": []
    },
    {
      "cell_type": "markdown",
      "source": [
        "4. What are the values of the following expressions?"
      ],
      "metadata": {
        "id": "hQ7YosoSr0rt"
      }
    },
    {
      "cell_type": "code",
      "source": [
        "1. (5 > 4) and (3 == 5) = FALSE\n",
        "2. Not (5 > 4) = FALSE\n",
        "3. (5 > 4) or (3 == 5) = TRUE\n",
        "4. not ((5 > 4) or (3 == 5)) = FALSE\n",
        "5. (True and True) and (True == False) = FALSE\n",
        "6. (not False) or (not True)  = TRUE"
      ],
      "metadata": {
        "id": "VmC1btZIsB-I"
      },
      "execution_count": null,
      "outputs": []
    },
    {
      "cell_type": "markdown",
      "source": [
        "5. What are the six comparison operators?"
      ],
      "metadata": {
        "id": "XYg8QqNmtFUs"
      }
    },
    {
      "cell_type": "code",
      "source": [
        "1. == (EQUAL TO)\n",
        "2. > (GREATER THAN)\n",
        "3. < (LESS THAN)\n",
        "4. >= (GREATER THAN EQULA TO)\n",
        "5. <= (LESS THAN EQULA TO)\n",
        "6. != (NOT EQUAL TO)"
      ],
      "metadata": {
        "id": "iEkSbjyqtGFN"
      },
      "execution_count": null,
      "outputs": []
    },
    {
      "cell_type": "markdown",
      "source": [
        "6. How do you tell the difference between the equal to and assignment operators?Describe a\n",
        "condition and when you would use one."
      ],
      "metadata": {
        "id": "YTrQvNnits4j"
      }
    },
    {
      "cell_type": "code",
      "source": [
        "=  is used to asign a value to variable\n",
        "== this is an comparison operator where 1 one value is compared with another"
      ],
      "metadata": {
        "id": "wwNQaSlxtyly"
      },
      "execution_count": null,
      "outputs": []
    },
    {
      "cell_type": "markdown",
      "source": [
        "7. Identify the three blocks in this code:"
      ],
      "metadata": {
        "id": "8dgyXAzS76_g"
      }
    },
    {
      "cell_type": "code",
      "source": [
        "spam = 0\n",
        "if spam == 10:\n",
        "  print('eggs') #first block\n",
        "if spam > 5:\n",
        "  print('bacon') #second block\n",
        "else:\n",
        "  print('ham') #third block\n",
        "  print('spam') #third block\n",
        "  print('spam') #third block"
      ],
      "metadata": {
        "colab": {
          "base_uri": "https://localhost:8080/"
        },
        "id": "tfXD08eCvMI0",
        "outputId": "d64573d9-fc67-49b7-e34f-f93ddc06affd"
      },
      "execution_count": 9,
      "outputs": [
        {
          "output_type": "stream",
          "name": "stdout",
          "text": [
            "ham\n",
            "spam\n",
            "spam\n"
          ]
        }
      ]
    },
    {
      "cell_type": "markdown",
      "source": [
        "8. Write code that prints Hello if 1 is stored in spam, prints Howdy if 2 is stored in spam, and prints\n",
        "Greetings! if anything else is stored in spam."
      ],
      "metadata": {
        "id": "SuD8TUFf1Ou5"
      }
    },
    {
      "cell_type": "code",
      "source": [
        "spam = 1\n",
        "if spam==1:\n",
        "  print('hello')\n",
        "elif spam ==2:\n",
        "  print('howdy')\n",
        "else:\n",
        "  print('greetings')"
      ],
      "metadata": {
        "colab": {
          "base_uri": "https://localhost:8080/"
        },
        "id": "zct7QeKE1PqJ",
        "outputId": "3c3c1912-951f-4bdc-f046-c8b3037955c0"
      },
      "execution_count": 12,
      "outputs": [
        {
          "output_type": "stream",
          "name": "stdout",
          "text": [
            "hello\n"
          ]
        }
      ]
    },
    {
      "cell_type": "markdown",
      "source": [
        "9.If your programme is stuck in an endless loop, what keys you’ll press?"
      ],
      "metadata": {
        "id": "fIaHERMd2gRy"
      }
    },
    {
      "cell_type": "code",
      "source": [
        "#Ans - control + c"
      ],
      "metadata": {
        "id": "oeJdEZkY2k9g"
      },
      "execution_count": null,
      "outputs": []
    },
    {
      "cell_type": "markdown",
      "source": [
        "10. How can you tell the difference between break and continue?"
      ],
      "metadata": {
        "id": "mVK9ozgV2qmG"
      }
    },
    {
      "cell_type": "code",
      "source": [
        "#break - In break statement if one of the condition is satisfies/meet while execution of loop by using break statement we can break the loop \n",
        "#continue - continue statement is used for skipping it forces to execute the next iteration of the loop."
      ],
      "metadata": {
        "id": "wbvG-ork4H1_"
      },
      "execution_count": null,
      "outputs": []
    },
    {
      "cell_type": "markdown",
      "source": [
        "11. In a for loop, what is the difference between range(10), range(0, 10), and range(0, 10, 1)?"
      ],
      "metadata": {
        "id": "fBlBaBOo54Rc"
      }
    },
    {
      "cell_type": "code",
      "source": [
        " range(10) - # This will print numbers from 0-10 because we have given 10 as endpoint and by default starting is 0 if we do not mention\n",
        " range(0, 10) - # In this 0 is starting point and 10 is ending point\n",
        " range(0, 10, 1) - # In this 0 is starting point and 10 is ending point and 1 is step size"
      ],
      "metadata": {
        "id": "mUivkrxu6EwM"
      },
      "execution_count": null,
      "outputs": []
    },
    {
      "cell_type": "markdown",
      "source": [
        "12. Write a short program that prints the numbers 1 to 10 using a for loop. Then write an equivalent\n",
        "program that prints the numbers 1 to 10 using a while loop."
      ],
      "metadata": {
        "id": "E4bLzB1m62nF"
      }
    },
    {
      "cell_type": "code",
      "source": [
        "#for loop\n",
        "\n",
        "for i in range(1,10):\n",
        "  print(i)"
      ],
      "metadata": {
        "colab": {
          "base_uri": "https://localhost:8080/"
        },
        "id": "Joo5iMuI63Re",
        "outputId": "a4cdf7cb-6794-4d8d-8dc2-5fc8e73f7063"
      },
      "execution_count": 18,
      "outputs": [
        {
          "output_type": "stream",
          "name": "stdout",
          "text": [
            "1\n",
            "2\n",
            "3\n",
            "4\n",
            "5\n",
            "6\n",
            "7\n",
            "8\n",
            "9\n"
          ]
        }
      ]
    },
    {
      "cell_type": "code",
      "source": [
        "#while loop\n",
        "\n",
        "a=1\n",
        "\n",
        "while a<11:\n",
        "  print(a)\n",
        "  a=a+1"
      ],
      "metadata": {
        "colab": {
          "base_uri": "https://localhost:8080/"
        },
        "id": "WZ_Ohqii7BIR",
        "outputId": "ff502119-b186-43e2-c77c-ef81672a8060"
      },
      "execution_count": 19,
      "outputs": [
        {
          "output_type": "stream",
          "name": "stdout",
          "text": [
            "1\n",
            "2\n",
            "3\n",
            "4\n",
            "5\n",
            "6\n",
            "7\n",
            "8\n",
            "9\n",
            "10\n"
          ]
        }
      ]
    },
    {
      "cell_type": "markdown",
      "source": [
        "13. If you had a function named bacon() inside a module named spam, how would you call it after\n",
        "importing spam?"
      ],
      "metadata": {
        "id": "J-WYDr3k7Zh9"
      }
    },
    {
      "cell_type": "code",
      "source": [
        "import spam\n",
        "spam.bacon"
      ],
      "metadata": {
        "id": "HN9BFFk37zFN"
      },
      "execution_count": null,
      "outputs": []
    }
  ]
}