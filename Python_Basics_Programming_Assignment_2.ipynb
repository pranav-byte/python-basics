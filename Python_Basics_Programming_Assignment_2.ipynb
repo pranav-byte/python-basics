{
  "nbformat": 4,
  "nbformat_minor": 0,
  "metadata": {
    "colab": {
      "provenance": []
    },
    "kernelspec": {
      "name": "python3",
      "display_name": "Python 3"
    },
    "language_info": {
      "name": "python"
    }
  },
  "cells": [
    {
      "cell_type": "markdown",
      "source": [
        "1.Write a Python program to convert kilometers to miles?"
      ],
      "metadata": {
        "id": "OFuF_xz1WNBy"
      }
    },
    {
      "cell_type": "code",
      "source": [
        "kilometers=int(input(\"Enter kilometer: \"))\n",
        "mile=0.62137119\n",
        "\n",
        "miles=kilometers*mile\n",
        "\n",
        "print(miles)\n",
        "\n"
      ],
      "metadata": {
        "colab": {
          "base_uri": "https://localhost:8080/"
        },
        "id": "TZdQwPDmWPTF",
        "outputId": "2cd30a18-6d9a-4b74-b4d8-a4b2f5e3011b"
      },
      "execution_count": 1,
      "outputs": [
        {
          "output_type": "stream",
          "name": "stdout",
          "text": [
            "Enter kilometer: 12\n",
            "7.456454279999999\n"
          ]
        }
      ]
    },
    {
      "cell_type": "markdown",
      "source": [
        "2.Write a Python program to convert Celsius to Fahrenheit?"
      ],
      "metadata": {
        "id": "_QIw2cKOW0OF"
      }
    },
    {
      "cell_type": "code",
      "source": [
        "celsius=int(input())\n",
        "\n",
        "fahrenheit=celsius*33.8\n",
        "\n",
        "print(fahrenheit)"
      ],
      "metadata": {
        "colab": {
          "base_uri": "https://localhost:8080/"
        },
        "id": "0nWxSgMFW3bD",
        "outputId": "6559333c-29fe-4e22-e9ab-a687247ab742"
      },
      "execution_count": 2,
      "outputs": [
        {
          "output_type": "stream",
          "name": "stdout",
          "text": [
            "2\n",
            "67.6\n"
          ]
        }
      ]
    },
    {
      "cell_type": "markdown",
      "source": [
        "3.Write a Python program to display calendar?"
      ],
      "metadata": {
        "id": "SIel9k1gXhrG"
      }
    },
    {
      "cell_type": "code",
      "source": [
        "import calendar\n",
        "\n",
        "year=int(input(\"enter year: \"))\n",
        "month=int(input(\"enter month: \"))\n",
        "\n",
        "print(calendar.month(year,month))\n",
        "\n"
      ],
      "metadata": {
        "colab": {
          "base_uri": "https://localhost:8080/"
        },
        "id": "XwT5G8QLXj4b",
        "outputId": "f2744699-e183-44f7-b362-9f588fb61695"
      },
      "execution_count": 5,
      "outputs": [
        {
          "output_type": "stream",
          "name": "stdout",
          "text": [
            "enter year: 22\n",
            "enter month: 12\n",
            "    December 22\n",
            "Mo Tu We Th Fr Sa Su\n",
            "          1  2  3  4\n",
            " 5  6  7  8  9 10 11\n",
            "12 13 14 15 16 17 18\n",
            "19 20 21 22 23 24 25\n",
            "26 27 28 29 30 31\n",
            "\n"
          ]
        }
      ]
    },
    {
      "cell_type": "markdown",
      "source": [
        "4.Write a Python program to swap two variables without temp variable?"
      ],
      "metadata": {
        "id": "_pUgM-nZYI5n"
      }
    },
    {
      "cell_type": "code",
      "source": [
        "a=int(input())\n",
        "b=int(input())\n",
        "a,b=b,a\n",
        "print(f\"a={a},b={b}\")"
      ],
      "metadata": {
        "colab": {
          "base_uri": "https://localhost:8080/"
        },
        "id": "ZlHYB9WoYa7u",
        "outputId": "f53dcf90-8a30-4224-b6c3-3d2dbb361124"
      },
      "execution_count": 8,
      "outputs": [
        {
          "output_type": "stream",
          "name": "stdout",
          "text": [
            "3\n",
            "4\n",
            "a=4,b=3\n"
          ]
        }
      ]
    }
  ]
}