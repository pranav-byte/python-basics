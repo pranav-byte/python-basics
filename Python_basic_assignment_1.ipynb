{
  "nbformat": 4,
  "nbformat_minor": 0,
  "metadata": {
    "colab": {
      "provenance": []
    },
    "kernelspec": {
      "name": "python3",
      "display_name": "Python 3"
    },
    "language_info": {
      "name": "python"
    }
  },
  "cells": [
    {
      "cell_type": "markdown",
      "source": [
        "1.  In the below elements which of them are values or an expression? eg:- values can be integer or string and expressions will be mathematical operators."
      ],
      "metadata": {
        "id": "HLEvXEaCSZOU"
      }
    },
    {
      "cell_type": "code",
      "source": [
        "* - expression\n",
        "'hello' - string\n",
        "-87.8 - float \n",
        "- - expression\n",
        "/ - esxpression\n",
        "+ - expression\n",
        "6 - integer\n"
      ],
      "metadata": {
        "id": "h4VFaaq8SclW"
      },
      "execution_count": null,
      "outputs": []
    },
    {
      "cell_type": "markdown",
      "source": [
        "2. What is the difference between string and variable?"
      ],
      "metadata": {
        "id": "0QUIW20aTGaW"
      }
    },
    {
      "cell_type": "code",
      "source": [
        "variable - Variable is used to store it is a type of container which is used to store values of different data type\n",
        "\n",
        "strings - In python strings are arrays of bytes representing unicode characters"
      ],
      "metadata": {
        "id": "gx9JnWcUTKRz"
      },
      "execution_count": null,
      "outputs": []
    },
    {
      "cell_type": "markdown",
      "source": [
        "3. Describe three different data types."
      ],
      "metadata": {
        "id": "SO7j4bi0T5Mm"
      }
    },
    {
      "cell_type": "code",
      "source": [
        "a.Integer - integer data type is used for only integer characters only (eg 1)\n",
        "\n",
        "b.strings - string data type is used for  representing unicode character (eg 'hello')\n",
        "\n",
        "c.float - float data type is used for values which have decimal values (eg 3.2)\n"
      ],
      "metadata": {
        "id": "bKiU1CxDT_MJ"
      },
      "execution_count": null,
      "outputs": []
    },
    {
      "cell_type": "markdown",
      "source": [
        "4. What is an expression made up of? What do all expressions do?\n"
      ],
      "metadata": {
        "id": "2ObKmPiEZ4_4"
      }
    },
    {
      "cell_type": "code",
      "source": [
        "\"\"\"An expression is a combination of operators and operands that is interpreted to produce some other value.\n",
        "In any programming language, an expression is evaluated as per the precedence of its operators. \n",
        "So that if there is more than one operator in an expression, their precedence decides which operation will be performed first\"\"\""
      ],
      "metadata": {
        "id": "LD3n90mpZ8rj"
      },
      "execution_count": null,
      "outputs": []
    },
    {
      "cell_type": "markdown",
      "source": [
        "5.This assignment statements, like spam = 10. What is the difference between an expression and a statement"
      ],
      "metadata": {
        "id": "0lnbEbS7VVaK"
      }
    },
    {
      "cell_type": "code",
      "source": [
        "spam = 10 In this case this will assign spam varibale values as 10\n",
        "\n",
        "spam == 10 In this case spam will be comapared with 10 and it will check if spam is equal to 10 or not\n"
      ],
      "metadata": {
        "id": "fAXcQHf7WQO6"
      },
      "execution_count": null,
      "outputs": []
    },
    {
      "cell_type": "markdown",
      "source": [
        "6. After running the following code, what does the variable bacon contain?"
      ],
      "metadata": {
        "id": "PCoKHEylWRTe"
      }
    },
    {
      "cell_type": "code",
      "source": [
        "bacon = 22\n",
        "bacon + 1\n",
        "\n",
        "print(bacon)"
      ],
      "metadata": {
        "colab": {
          "base_uri": "https://localhost:8080/"
        },
        "id": "jUlyG8PzWTuY",
        "outputId": "2da064b1-b967-4d0a-e0b5-c9b3c4f5a833"
      },
      "execution_count": 2,
      "outputs": [
        {
          "output_type": "stream",
          "name": "stdout",
          "text": [
            "22\n"
          ]
        }
      ]
    },
    {
      "cell_type": "markdown",
      "source": [
        "7. What should the values of the following two terms be?\n",
        "'spam' + 'spamspam'\n",
        "'spam' * 3\n"
      ],
      "metadata": {
        "id": "VsJTl-HpWdVG"
      }
    },
    {
      "cell_type": "code",
      "source": [
        "a= 'spam' + 'spamspam' #in this case concatication will happen\n",
        "\n",
        "b= 'spam' * 3 #in this case spam will be printed 3 times\n",
        "\n",
        "print(a)\n",
        "print(b)"
      ],
      "metadata": {
        "colab": {
          "base_uri": "https://localhost:8080/"
        },
        "id": "_2A4i7OGWw6W",
        "outputId": "12a5fdee-6bf8-40fd-bc64-6db0e2d99e33"
      },
      "execution_count": 4,
      "outputs": [
        {
          "output_type": "stream",
          "name": "stdout",
          "text": [
            "spamspamspam\n",
            "spamspamspam\n"
          ]
        }
      ]
    },
    {
      "cell_type": "markdown",
      "source": [
        "8. Why is eggs a valid variable name while 100 is invalid?\n"
      ],
      "metadata": {
        "id": "mzet9FUeXUf6"
      }
    },
    {
      "cell_type": "code",
      "source": [
        "Variable name should always start with character thats why egg is valid variable name and 100 is is invalid"
      ],
      "metadata": {
        "id": "T9Z564NvXVWG"
      },
      "execution_count": null,
      "outputs": []
    },
    {
      "cell_type": "markdown",
      "source": [
        "10. Why does this expression cause an error? How can you fix it?\n",
        "'I have eaten ' + 99 + ' burritos.'\n"
      ],
      "metadata": {
        "id": "D6q5DVPEXjDw"
      }
    },
    {
      "cell_type": "code",
      "source": [
        "#because it is not able to find correct string beause multiple single inverted commas are used\n",
        "\n",
        "#fix\n",
        "\"\"\" 'I have eaten ' + 99 + ' burritos.'\"\"\""
      ],
      "metadata": {
        "colab": {
          "base_uri": "https://localhost:8080/",
          "height": 35
        },
        "id": "3elSv_bdXphL",
        "outputId": "a556c50b-2113-4d1a-b939-27a24ed15dba"
      },
      "execution_count": 6,
      "outputs": [
        {
          "output_type": "execute_result",
          "data": {
            "text/plain": [
              "\" 'I have eaten ' + 99 + ' burritos.'\""
            ],
            "application/vnd.google.colaboratory.intrinsic+json": {
              "type": "string"
            }
          },
          "metadata": {},
          "execution_count": 6
        }
      ]
    }
  ]
}